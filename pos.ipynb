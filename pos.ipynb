{
 "cells": [
  {
   "cell_type": "code",
   "execution_count": 1,
   "metadata": {},
   "outputs": [],
   "source": [
    "import sys\n",
    "import pandas as pd\n",
    "import numpy as np\n",
    "import nltk\n",
    "import re\n"
   ]
  },
  {
   "cell_type": "markdown",
   "metadata": {},
   "source": []
  },
  {
   "cell_type": "code",
   "execution_count": 2,
   "metadata": {},
   "outputs": [],
   "source": [
    "from modules.load_data import load_data, DocID\n",
    "from modules.create_word_pos_list import create_word_pos_list\n",
    "from modules.search import search\n",
    "from modules.count_pos_patterns import count_pos_patterns\n",
    "from modules.predict import predict"
   ]
  },
  {
   "cell_type": "markdown",
   "metadata": {},
   "source": []
  },
  {
   "cell_type": "code",
   "execution_count": 3,
   "metadata": {},
   "outputs": [],
   "source": [
    "df = load_data()"
   ]
  },
  {
   "cell_type": "code",
   "execution_count": 4,
   "metadata": {},
   "outputs": [
    {
     "data": {
      "text/html": [
       "<div>\n",
       "<style scoped>\n",
       "    .dataframe tbody tr th:only-of-type {\n",
       "        vertical-align: middle;\n",
       "    }\n",
       "\n",
       "    .dataframe tbody tr th {\n",
       "        vertical-align: top;\n",
       "    }\n",
       "\n",
       "    .dataframe thead th {\n",
       "        text-align: right;\n",
       "    }\n",
       "</style>\n",
       "<table border=\"1\" class=\"dataframe\">\n",
       "  <thead>\n",
       "    <tr style=\"text-align: right;\">\n",
       "      <th></th>\n",
       "      <th>author</th>\n",
       "      <th>message</th>\n",
       "    </tr>\n",
       "  </thead>\n",
       "  <tbody>\n",
       "    <tr>\n",
       "      <th>0</th>\n",
       "      <td>Q</td>\n",
       "      <td>\\n\\nHowever, there are frequent situations whe...</td>\n",
       "    </tr>\n",
       "    <tr>\n",
       "      <th>1</th>\n",
       "      <td>K1</td>\n",
       "      <td>Download\\n\\nSource\\n\\nPDF\\nActions\\n   Copy Pr...</td>\n",
       "    </tr>\n",
       "    <tr>\n",
       "      <th>2</th>\n",
       "      <td>K2</td>\n",
       "      <td>\\n\\nWith the rapid growth of the information c...</td>\n",
       "    </tr>\n",
       "  </tbody>\n",
       "</table>\n",
       "</div>"
      ],
      "text/plain": [
       "  author                                            message\n",
       "0      Q  \\n\\nHowever, there are frequent situations whe...\n",
       "1     K1  Download\\n\\nSource\\n\\nPDF\\nActions\\n   Copy Pr...\n",
       "2     K2  \\n\\nWith the rapid growth of the information c..."
      ]
     },
     "execution_count": 4,
     "metadata": {},
     "output_type": "execute_result"
    }
   ],
   "source": [
    "df"
   ]
  },
  {
   "cell_type": "markdown",
   "metadata": {},
   "source": [
    "## Create a list of tuples of (word, POS)"
   ]
  },
  {
   "cell_type": "code",
   "execution_count": 5,
   "metadata": {},
   "outputs": [],
   "source": [
    "df.insert(2,\"word_pos_list\",[ create_word_pos_list(message) for message in df['message']],True)"
   ]
  },
  {
   "cell_type": "code",
   "execution_count": 6,
   "metadata": {},
   "outputs": [
    {
     "data": {
      "text/plain": [
       "[('With', 'IN'), ('the', 'DT'), ('rapid', 'JJ')]"
      ]
     },
     "execution_count": 6,
     "metadata": {},
     "output_type": "execute_result"
    }
   ],
   "source": [
    "df['word_pos_list'][2][:3]"
   ]
  },
  {
   "cell_type": "markdown",
   "metadata": {},
   "source": [
    "# Search"
   ]
  },
  {
   "cell_type": "code",
   "execution_count": 16,
   "metadata": {},
   "outputs": [
    {
     "name": "stdout",
     "output_type": "stream",
     "text": [
      "query :  ['In', 'th.*', 'NN']\n",
      "Q :  task and resource manage- ment . \u001b[32mIn\u001b[0m \u001b[32mthis\u001b[0m \u001b[32mwork\u001b[0m , we consider the \n",
      "Q :  again ( for example , driving \u001b[32min\u001b[0m \u001b[32mthe\u001b[0m \u001b[32marea\u001b[0m because of some business \n",
      "Q :  , where the user is involved \u001b[32min\u001b[0m \u001b[32mthe\u001b[0m \u001b[32mactivity\u001b[0m , and the activity \n",
      "Q :  discover major entities to be modeled \u001b[32min\u001b[0m \u001b[32mthe\u001b[0m \u001b[32msystem\u001b[0m and their key relationships \n",
      "Q :  . The condition of the reminder \u001b[32min\u001b[0m \u001b[32mthis\u001b[0m \u001b[32msystem\u001b[0m is mainly determined by \n",
      "Q :  . Templates are reminder configurations stored \u001b[32min\u001b[0m \u001b[32mthe\u001b[0m \u001b[32msystem\u001b[0m for future use to \n",
      "Q :  a regular plan to be included \u001b[32min\u001b[0m \u001b[32mthe\u001b[0m \u001b[32mcalendar\u001b[0m or time scheduler might \n",
      "Q :  to synchronize the geofence coordinates created \u001b[32min\u001b[0m \u001b[32mthe\u001b[0m \u001b[32mdatabase\u001b[0m with the cloud . \n",
      "K2:  , thus lowering the energy consumed \u001b[32min\u001b[0m \u001b[32mthe\u001b[0m \u001b[32mcooling\u001b[0m systems . However , \n",
      "K2:  , thus lowering the energy consumption \u001b[32min\u001b[0m \u001b[32mthe\u001b[0m \u001b[32mcooling\u001b[0m systems . 4 % \n",
      "K2:  As one of the key components \u001b[32min\u001b[0m \u001b[32mthe\u001b[0m \u001b[32mtransceiver\u001b[0m , electro-optic ( EO \n",
      "K2:  energy-consuming temperature stabilization unit is deployed \u001b[32min\u001b[0m \u001b[32mthe\u001b[0m \u001b[32msystem\u001b[0m . The simultaneous fulfilments \n",
      "K2:  , the bulky adamantyl unit branched \u001b[32min\u001b[0m \u001b[32mthe\u001b[0m \u001b[32macrylate\u001b[0m polymer leads to a \n",
      "K2:  could offer good thermal stability . \u001b[32mIn\u001b[0m \u001b[32mthe\u001b[0m \u001b[32mpolymer\u001b[0m synthesis , the loading \n",
      "K2:  are prepared by mixing EO chromophores \u001b[32min\u001b[0m \u001b[32mthe\u001b[0m \u001b[32mpolymer\u001b[0m hosts . However , \n",
      "K2:  200 μm spacing . As illustrated \u001b[32min\u001b[0m \u001b[32mthe\u001b[0m \u001b[32mschematic\u001b[0m of the cross section \n",
      "K2:  With such a large confinement factor \u001b[32min\u001b[0m \u001b[32mthe\u001b[0m \u001b[32mmodulator\u001b[0m , the induced refractive-index \n",
      "K2:  with the excellent confinement of light \u001b[32min\u001b[0m \u001b[32mthe\u001b[0m \u001b[32mwaveguide\u001b[0m , enables a high \n",
      "K2:  ( 2.210-4 ) . As presumed \u001b[32min\u001b[0m \u001b[32mthe\u001b[0m \u001b[32mbandwidth\u001b[0m analysis , error-free operations \n",
      "K2:  the aforementioned range . As shown \u001b[32min\u001b[0m \u001b[32mthe\u001b[0m \u001b[32minset\u001b[0m of Fig . 4a \n",
      "K2:  MRR either require significant power consumption \u001b[32min\u001b[0m \u001b[32mthe\u001b[0m \u001b[32mtemperature\u001b[0m stabilization unit [ 45 \n",
      "K2:  , although the SPH modulator presented \u001b[32min\u001b[0m \u001b[32mthis\u001b[0m \u001b[32mwork\u001b[0m has no clear advantage \n",
      "K2:  , thus reducing the energy consumed \u001b[32min\u001b[0m \u001b[32mthe\u001b[0m \u001b[32mcooling\u001b[0m systems . In this \n",
      "K2:  consumed in the cooling systems . \u001b[32mIn\u001b[0m \u001b[32mthis\u001b[0m \u001b[32mwork\u001b[0m , our fabricated SPH \n",
      "K2:  200 fJ bit-1 with Vpp=2.0 V. \u001b[32mIn\u001b[0m \u001b[32mthe\u001b[0m \u001b[32mgeneration\u001b[0m of 200 Gbit s-1 \n",
      "K2:  GHz . High-speed operation characterization . \u001b[32mIn\u001b[0m \u001b[32mthe\u001b[0m \u001b[32mexperiment\u001b[0m for generating high-speed signals \n",
      "K2:  : 90 kHz~60 GHz ) . \u001b[32mIn\u001b[0m \u001b[32mthe\u001b[0m \u001b[32msynthesis\u001b[0m of Nyquist PAM4 signals \n",
      "K2:  at a high storage temperature . \u001b[32mIn\u001b[0m \u001b[32mthe\u001b[0m \u001b[32mperformance\u001b[0m investigation at high ambient \n",
      "K2:  25 °C to 110 °C . \u001b[32mIn\u001b[0m \u001b[32mthe\u001b[0m \u001b[32mmeasurement\u001b[0m , the device is \n",
      "K1:  to be for children rather lies \u001b[32min\u001b[0m \u001b[32mthe\u001b[0m \u001b[32mscope\u001b[0m of art and musicology \n",
      "K1:  style identification and comparative analysis . \u001b[32mIn\u001b[0m \u001b[32mthis\u001b[0m \u001b[32mstudy\u001b[0m we try to discover \n",
      "K1:  of applied human- centric computing research \u001b[32min\u001b[0m \u001b[32mthe\u001b[0m \u001b[32mframe\u001b[0m of art and humanities \n",
      "K1:  constructions ) , complex symbolic notations \u001b[32min\u001b[0m \u001b[32mthe\u001b[0m \u001b[32mform\u001b[0m of graphic note scores \n",
      "K1:  within three octaves : every note \u001b[32min\u001b[0m \u001b[32mthe\u001b[0m \u001b[32msequence\u001b[0m keeps its position on \n",
      "K1:  and agogic emphasis , measured both \u001b[32min\u001b[0m \u001b[32mthe\u001b[0m \u001b[32mpreceding\u001b[0m and following groups ” \n",
      "K1:  even though Tchaikovsky claimed it explicitly \u001b[32min\u001b[0m \u001b[32mthe\u001b[0m \u001b[32msubtitle\u001b[0m for the published edition \n",
      "K1:  like Schumann ” ( but not \u001b[32min\u001b[0m \u001b[32mthe\u001b[0m \u001b[32mmanuscript\u001b[0m ! [ 24 ] \n",
      "K1:  ” ! Should you then believe \u001b[32min\u001b[0m \u001b[32mthe\u001b[0m \u001b[32mappropriateness\u001b[0m of all made transformations \n",
      "K1:  the first and the last pieces \u001b[32min\u001b[0m \u001b[32mthe\u001b[0m \u001b[32mmanuscript\u001b[0m , “ Morning prayer \n",
      "K1:  respectively . An idea that changes \u001b[32min\u001b[0m \u001b[32mthe\u001b[0m \u001b[32morder\u001b[0m of compositions between the \n",
      "K1:  are not so explicitly exposed as \u001b[32min\u001b[0m \u001b[32mthe\u001b[0m \u001b[32mmanuscript\u001b[0m . From the perspective \n"
     ]
    }
   ],
   "source": [
    "documents = df['word_pos_list']\n",
    "search(documents, \"In th.* NN\", datasets=[DocID.Q, DocID.K2, DocID.K1])"
   ]
  },
  {
   "cell_type": "code",
   "execution_count": 8,
   "metadata": {},
   "outputs": [],
   "source": [
    "pos_patterns, pos_freq_vectors = count_pos_patterns(documents, window_size=3)\n",
    "df['pos_freq'] = pos_freq_vectors"
   ]
  },
  {
   "cell_type": "code",
   "execution_count": 9,
   "metadata": {},
   "outputs": [
    {
     "data": {
      "text/plain": [
       "'the JJ NN'"
      ]
     },
     "execution_count": 9,
     "metadata": {},
     "output_type": "execute_result"
    }
   ],
   "source": [
    "# show the top pattern of Q\n",
    "doc_id = DocID.Q\n",
    "max_idx = pos_freq_vectors[doc_id].index(max(pos_freq_vectors[doc_id]))\n",
    "pos_patterns[max_idx]"
   ]
  },
  {
   "cell_type": "code",
   "execution_count": 10,
   "metadata": {},
   "outputs": [
    {
     "data": {
      "text/plain": [
       "3"
      ]
     },
     "execution_count": 10,
     "metadata": {},
     "output_type": "execute_result"
    }
   ],
   "source": [
    "len(df)"
   ]
  },
  {
   "cell_type": "code",
   "execution_count": 11,
   "metadata": {},
   "outputs": [],
   "source": [
    "from modules.predict import predict\n",
    "Q_df = df.loc[DocID.Q]\n",
    "K_df = df.loc[DocID.K1:DocID.K2].reset_index(drop=True)"
   ]
  },
  {
   "cell_type": "code",
   "execution_count": 12,
   "metadata": {},
   "outputs": [
    {
     "data": {
      "text/html": [
       "<div>\n",
       "<style scoped>\n",
       "    .dataframe tbody tr th:only-of-type {\n",
       "        vertical-align: middle;\n",
       "    }\n",
       "\n",
       "    .dataframe tbody tr th {\n",
       "        vertical-align: top;\n",
       "    }\n",
       "\n",
       "    .dataframe thead th {\n",
       "        text-align: right;\n",
       "    }\n",
       "</style>\n",
       "<table border=\"1\" class=\"dataframe\">\n",
       "  <thead>\n",
       "    <tr style=\"text-align: right;\">\n",
       "      <th></th>\n",
       "      <th>author</th>\n",
       "      <th>message</th>\n",
       "      <th>word_pos_list</th>\n",
       "      <th>pos_freq</th>\n",
       "    </tr>\n",
       "  </thead>\n",
       "  <tbody>\n",
       "    <tr>\n",
       "      <th>0</th>\n",
       "      <td>K1</td>\n",
       "      <td>Download\\n\\nSource\\n\\nPDF\\nActions\\n   Copy Pr...</td>\n",
       "      <td>[(Download, NNP), (Source, NNP), (PDF, NNP), (...</td>\n",
       "      <td>[0, 0, 0, 0, 0, 0, 0, 0, 0, 0, 1, 0, 0, 0, 0, ...</td>\n",
       "    </tr>\n",
       "    <tr>\n",
       "      <th>1</th>\n",
       "      <td>K2</td>\n",
       "      <td>\\n\\nWith the rapid growth of the information c...</td>\n",
       "      <td>[(With, IN), (the, DT), (rapid, JJ), (growth, ...</td>\n",
       "      <td>[0, 0, 0, 0, 0, 0, 5, 7, 0, 0, 1, 0, 7, 0, 0, ...</td>\n",
       "    </tr>\n",
       "  </tbody>\n",
       "</table>\n",
       "</div>"
      ],
      "text/plain": [
       "  author                                            message  \\\n",
       "0     K1  Download\\n\\nSource\\n\\nPDF\\nActions\\n   Copy Pr...   \n",
       "1     K2  \\n\\nWith the rapid growth of the information c...   \n",
       "\n",
       "                                       word_pos_list  \\\n",
       "0  [(Download, NNP), (Source, NNP), (PDF, NNP), (...   \n",
       "1  [(With, IN), (the, DT), (rapid, JJ), (growth, ...   \n",
       "\n",
       "                                            pos_freq  \n",
       "0  [0, 0, 0, 0, 0, 0, 0, 0, 0, 0, 1, 0, 0, 0, 0, ...  \n",
       "1  [0, 0, 0, 0, 0, 0, 5, 7, 0, 0, 1, 0, 7, 0, 0, ...  "
      ]
     },
     "execution_count": 12,
     "metadata": {},
     "output_type": "execute_result"
    }
   ],
   "source": [
    "K_df"
   ]
  },
  {
   "cell_type": "code",
   "execution_count": 13,
   "metadata": {},
   "outputs": [
    {
     "name": "stdout",
     "output_type": "stream",
     "text": [
      "==================== Top 20 ====================\n",
      "Suspected : {'K1', 'K2'}\n",
      "Q  :the JJ NN | the NN IN | . CD . | a NN IN | a JJ NN | of JJ NN | to VB DT | be VBN IN | by DT NN | of JJ NNS | . NN CD | the NNS IN | to VB VBN | [ CD NN | . DT NN | Figure CD . | the NN NN | the NN VBZ | be JJ IN | [ CD NNP | \n",
      "\n",
      "\n",
      "K1 : [ CD NN | the NN IN | a JJ NN | in DT NN | of NNP NNP | s NNP NNP | the JJ NN | music NN NN | be VBN IN | ’ NN NNP | can VB VBN | of NNS IN | the NN CC | to VB DT | of JJ NN | and JJ NN | , IN DT | Children NNP NN | . IN DT | [ CD NNP | \n",
      "Score : 8\n",
      "Shared list Q-K1 : be VBN IN | of JJ NN | [ CD NN | the JJ NN | to VB DT | a JJ NN | the NN IN | [ CD NNP | \n",
      "\n",
      "K2 : the JJ NN | the NN NN | ( NNP ) | a JJ NN | of DT NN | the NN IN | . DT JJ | the JJ JJ | the NNP NN | of DT JJ | is VBN IN | up TO CD | , DT NN | , DT JJ | Fig . CD | . IN DT | are VBN IN | in DT NN | to VB DT | in NNP . | \n",
      "Score : 5\n",
      "Shared list Q-K2 : the JJ NN | to VB DT | a JJ NN | the NN NN | the NN IN | \n",
      "------------------------------------------------\n"
     ]
    },
    {
     "data": {
      "text/plain": [
       "'K1'"
      ]
     },
     "execution_count": 13,
     "metadata": {},
     "output_type": "execute_result"
    }
   ],
   "source": [
    "predict(Q_df, K_df, target='pos_freq', _list=pos_patterns)"
   ]
  },
  {
   "cell_type": "code",
   "execution_count": 14,
   "metadata": {},
   "outputs": [],
   "source": [
    "nparray = np.array(df['pos_freq'][DocID.K1])\n",
    "num = np.count_nonzero(nparray)\n"
   ]
  },
  {
   "cell_type": "code",
   "execution_count": 15,
   "metadata": {},
   "outputs": [
    {
     "name": "stdout",
     "output_type": "stream",
     "text": [
      "ソート後のインデックス: [1 3 2 0]\n",
      "ソート後の配列: [10 20 30 40]\n"
     ]
    }
   ],
   "source": [
    "arr = np.array([40, 10, 30, 20])\n",
    "\n",
    "# argsortを使用してインデックスを取得\n",
    "sorted_indices = np.argsort(arr)\n",
    "\n",
    "print(\"ソート後のインデックス:\", sorted_indices)\n",
    "print(\"ソート後の配列:\", arr[sorted_indices])"
   ]
  },
  {
   "cell_type": "code",
   "execution_count": null,
   "metadata": {},
   "outputs": [],
   "source": []
  }
 ],
 "metadata": {
  "kernelspec": {
   "display_name": "expsystem",
   "language": "python",
   "name": "python3"
  },
  "language_info": {
   "codemirror_mode": {
    "name": "ipython",
    "version": 3
   },
   "file_extension": ".py",
   "mimetype": "text/x-python",
   "name": "python",
   "nbconvert_exporter": "python",
   "pygments_lexer": "ipython3",
   "version": "3.11.4"
  },
  "orig_nbformat": 4
 },
 "nbformat": 4,
 "nbformat_minor": 2
}
