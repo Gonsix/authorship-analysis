{
 "cells": [
  {
   "cell_type": "code",
   "execution_count": 3,
   "metadata": {},
   "outputs": [],
   "source": [
    "import sys\n",
    "import pandas as pd\n",
    "import numpy as np\n",
    "import nltk\n",
    "import os\n",
    "import glob"
   ]
  },
  {
   "cell_type": "code",
   "execution_count": 4,
   "metadata": {},
   "outputs": [],
   "source": [
    "from sklearn.feature_extraction.text import CountVectorizer"
   ]
  },
  {
   "cell_type": "code",
   "execution_count": 5,
   "metadata": {},
   "outputs": [],
   "source": [
    "from modules.load_data import load_data, DocID\n",
    "from modules.predict import predict"
   ]
  },
  {
   "cell_type": "code",
   "execution_count": 6,
   "metadata": {},
   "outputs": [],
   "source": [
    "df = load_data()"
   ]
  },
  {
   "cell_type": "code",
   "execution_count": 7,
   "metadata": {},
   "outputs": [
    {
     "data": {
      "text/html": [
       "<div>\n",
       "<style scoped>\n",
       "    .dataframe tbody tr th:only-of-type {\n",
       "        vertical-align: middle;\n",
       "    }\n",
       "\n",
       "    .dataframe tbody tr th {\n",
       "        vertical-align: top;\n",
       "    }\n",
       "\n",
       "    .dataframe thead th {\n",
       "        text-align: right;\n",
       "    }\n",
       "</style>\n",
       "<table border=\"1\" class=\"dataframe\">\n",
       "  <thead>\n",
       "    <tr style=\"text-align: right;\">\n",
       "      <th></th>\n",
       "      <th>author</th>\n",
       "      <th>message</th>\n",
       "    </tr>\n",
       "  </thead>\n",
       "  <tbody>\n",
       "    <tr>\n",
       "      <th>0</th>\n",
       "      <td>Q</td>\n",
       "      <td>\\n\\nHowever, there are frequent situations whe...</td>\n",
       "    </tr>\n",
       "    <tr>\n",
       "      <th>1</th>\n",
       "      <td>K1</td>\n",
       "      <td>Download\\n\\nSource\\n\\nPDF\\nActions\\n   Copy Pr...</td>\n",
       "    </tr>\n",
       "    <tr>\n",
       "      <th>2</th>\n",
       "      <td>K2</td>\n",
       "      <td>\\n\\nWith the rapid growth of the information c...</td>\n",
       "    </tr>\n",
       "  </tbody>\n",
       "</table>\n",
       "</div>"
      ],
      "text/plain": [
       "  author                                            message\n",
       "0      Q  \\n\\nHowever, there are frequent situations whe...\n",
       "1     K1  Download\\n\\nSource\\n\\nPDF\\nActions\\n   Copy Pr...\n",
       "2     K2  \\n\\nWith the rapid growth of the information c..."
      ]
     },
     "execution_count": 7,
     "metadata": {},
     "output_type": "execute_result"
    }
   ],
   "source": [
    "df"
   ]
  },
  {
   "cell_type": "code",
   "execution_count": 8,
   "metadata": {},
   "outputs": [],
   "source": [
    "from modules.load_reference import load_reference"
   ]
  },
  {
   "cell_type": "code",
   "execution_count": 9,
   "metadata": {},
   "outputs": [
    {
     "name": "stdout",
     "output_type": "stream",
     "text": [
      "AHJAJAA\n"
     ]
    },
    {
     "data": {
      "text/html": [
       "<div>\n",
       "<style scoped>\n",
       "    .dataframe tbody tr th:only-of-type {\n",
       "        vertical-align: middle;\n",
       "    }\n",
       "\n",
       "    .dataframe tbody tr th {\n",
       "        vertical-align: top;\n",
       "    }\n",
       "\n",
       "    .dataframe thead th {\n",
       "        text-align: right;\n",
       "    }\n",
       "</style>\n",
       "<table border=\"1\" class=\"dataframe\">\n",
       "  <thead>\n",
       "    <tr style=\"text-align: right;\">\n",
       "      <th></th>\n",
       "      <th>author</th>\n",
       "      <th>message</th>\n",
       "    </tr>\n",
       "  </thead>\n",
       "  <tbody>\n",
       "    <tr>\n",
       "      <th>0</th>\n",
       "      <td>Q</td>\n",
       "      <td>\\n\\nHowever, there are frequent situations whe...</td>\n",
       "    </tr>\n",
       "    <tr>\n",
       "      <th>1</th>\n",
       "      <td>K1</td>\n",
       "      <td>Download\\n\\nSource\\n\\nPDF\\nActions\\n   Copy Pr...</td>\n",
       "    </tr>\n",
       "    <tr>\n",
       "      <th>2</th>\n",
       "      <td>K2</td>\n",
       "      <td>\\n\\nWith the rapid growth of the information c...</td>\n",
       "    </tr>\n",
       "    <tr>\n",
       "      <th>3</th>\n",
       "      <td>R</td>\n",
       "      <td>Appointment of William S. Pfaff Jr. , 41 , as ...</td>\n",
       "    </tr>\n",
       "  </tbody>\n",
       "</table>\n",
       "</div>"
      ],
      "text/plain": [
       "  author                                            message\n",
       "0      Q  \\n\\nHowever, there are frequent situations whe...\n",
       "1     K1  Download\\n\\nSource\\n\\nPDF\\nActions\\n   Copy Pr...\n",
       "2     K2  \\n\\nWith the rapid growth of the information c...\n",
       "3      R  Appointment of William S. Pfaff Jr. , 41 , as ..."
      ]
     },
     "execution_count": 9,
     "metadata": {},
     "output_type": "execute_result"
    }
   ],
   "source": [
    "df_ref = load_reference(name=\"Brown\")\n",
    "df = pd.concat([df, df_ref])\n",
    "df = df.reset_index(drop=True)\n",
    "df"
   ]
  },
  {
   "cell_type": "code",
   "execution_count": 10,
   "metadata": {},
   "outputs": [],
   "source": [
    "def tokenizeFunc(documents):\n",
    "    # tf: Term frequency\n",
    "    tf_vectorizer = CountVectorizer()\n",
    "    tf_vectors = tf_vectorizer.fit_transform(documents)\n",
    "    words = tf_vectorizer.get_feature_names_out()\n",
    "    del tf_vectorizer\n",
    "    return (tf_vectors, words)"
   ]
  },
  {
   "cell_type": "code",
   "execution_count": 11,
   "metadata": {},
   "outputs": [],
   "source": [
    "documents = list(df['message'])\n",
    "tf_vectors, words = tokenizeFunc(documents)\n"
   ]
  },
  {
   "cell_type": "code",
   "execution_count": 12,
   "metadata": {},
   "outputs": [
    {
     "data": {
      "text/plain": [
       "'talk'"
      ]
     },
     "execution_count": 12,
     "metadata": {},
     "output_type": "execute_result"
    }
   ],
   "source": [
    "# len(words)\n",
    "words[2360]"
   ]
  },
  {
   "cell_type": "code",
   "execution_count": 13,
   "metadata": {},
   "outputs": [],
   "source": [
    "tf_mat = tf_vectors.toarray()\n",
    "del tf_vectors\n",
    "df['tf'] = tf_mat.tolist()"
   ]
  },
  {
   "cell_type": "code",
   "execution_count": 14,
   "metadata": {},
   "outputs": [
    {
     "data": {
      "text/html": [
       "<div>\n",
       "<style scoped>\n",
       "    .dataframe tbody tr th:only-of-type {\n",
       "        vertical-align: middle;\n",
       "    }\n",
       "\n",
       "    .dataframe tbody tr th {\n",
       "        vertical-align: top;\n",
       "    }\n",
       "\n",
       "    .dataframe thead th {\n",
       "        text-align: right;\n",
       "    }\n",
       "</style>\n",
       "<table border=\"1\" class=\"dataframe\">\n",
       "  <thead>\n",
       "    <tr style=\"text-align: right;\">\n",
       "      <th></th>\n",
       "      <th>author</th>\n",
       "      <th>message</th>\n",
       "      <th>tf</th>\n",
       "    </tr>\n",
       "  </thead>\n",
       "  <tbody>\n",
       "    <tr>\n",
       "      <th>0</th>\n",
       "      <td>Q</td>\n",
       "      <td>\\n\\nHowever, there are frequent situations whe...</td>\n",
       "      <td>[0, 0, 0, 2, 0, 0, 0, 0, 1, 0, 0, 1, 0, 0, 1, ...</td>\n",
       "    </tr>\n",
       "    <tr>\n",
       "      <th>1</th>\n",
       "      <td>K1</td>\n",
       "      <td>Download\\n\\nSource\\n\\nPDF\\nActions\\n   Copy Pr...</td>\n",
       "      <td>[0, 0, 0, 1, 1, 0, 0, 0, 1, 0, 0, 1, 0, 0, 1, ...</td>\n",
       "    </tr>\n",
       "    <tr>\n",
       "      <th>2</th>\n",
       "      <td>K2</td>\n",
       "      <td>\\n\\nWith the rapid growth of the information c...</td>\n",
       "      <td>[2, 1, 1, 7, 22, 3, 2, 4, 1, 13, 4, 1, 6, 1, 0...</td>\n",
       "    </tr>\n",
       "    <tr>\n",
       "      <th>3</th>\n",
       "      <td>R</td>\n",
       "      <td>Appointment of William S. Pfaff Jr. , 41 , as ...</td>\n",
       "      <td>[1, 0, 0, 0, 0, 0, 0, 0, 2, 0, 0, 2, 0, 0, 2, ...</td>\n",
       "    </tr>\n",
       "  </tbody>\n",
       "</table>\n",
       "</div>"
      ],
      "text/plain": [
       "  author                                            message  \\\n",
       "0      Q  \\n\\nHowever, there are frequent situations whe...   \n",
       "1     K1  Download\\n\\nSource\\n\\nPDF\\nActions\\n   Copy Pr...   \n",
       "2     K2  \\n\\nWith the rapid growth of the information c...   \n",
       "3      R  Appointment of William S. Pfaff Jr. , 41 , as ...   \n",
       "\n",
       "                                                  tf  \n",
       "0  [0, 0, 0, 2, 0, 0, 0, 0, 1, 0, 0, 1, 0, 0, 1, ...  \n",
       "1  [0, 0, 0, 1, 1, 0, 0, 0, 1, 0, 0, 1, 0, 0, 1, ...  \n",
       "2  [2, 1, 1, 7, 22, 3, 2, 4, 1, 13, 4, 1, 6, 1, 0...  \n",
       "3  [1, 0, 0, 0, 0, 0, 0, 0, 2, 0, 0, 2, 0, 0, 2, ...  "
      ]
     },
     "execution_count": 14,
     "metadata": {},
     "output_type": "execute_result"
    }
   ],
   "source": [
    "df"
   ]
  },
  {
   "cell_type": "markdown",
   "metadata": {},
   "source": [
    "# Predict by Word frequency"
   ]
  },
  {
   "cell_type": "code",
   "execution_count": 15,
   "metadata": {},
   "outputs": [],
   "source": [
    "from modules.predict import predict\n",
    "Q_df = df.loc[DocID.Q]\n",
    "K_df = df.loc[DocID.K1:DocID.K2].reset_index(drop=True)"
   ]
  },
  {
   "cell_type": "code",
   "execution_count": 16,
   "metadata": {},
   "outputs": [
    {
     "name": "stdout",
     "output_type": "stream",
     "text": [
      "==================== Top 20 ====================\n",
      "Suspected : {'K2', 'K1'}\n",
      "Q  :the | of | and | to | for | in | be | or | planning | are | is | as | time | location | user | based | that | system | soft | on | \n",
      "\n",
      "\n",
      "K1 : the | of | and | in | to | as | music | is | for | be | on | by | tchaikovsky | can | that | not | between | similarity | such | models | \n",
      "Score : 11\n",
      "Shared list Q-K1 : in | the | as | for | of | to | is | on | and | that | be | \n",
      "\n",
      "K2 : the | of | to | and | in | is | high | eo | with | for | temperature | at | gbit | modulator | device | are | as | sph | polymer | up | \n",
      "Score : 9\n",
      "Shared list Q-K2 : in | as | for | of | to | is | and | are | the | \n",
      "------------------------------------------------\n",
      "==================== Top 40 ====================\n",
      "Suspected : {'K2', 'K1'}\n",
      "Q  :the | of | and | to | for | in | be | or | planning | are | is | as | time | location | user | based | that | system | soft | on | such | figure | by | activity | with | it | scenarios | not | reminders | notifications | may | we | an | reminder | which | while | can | services | ontology | section | \n",
      "\n",
      "\n",
      "K1 : the | of | and | in | to | as | music | is | for | be | on | by | tchaikovsky | can | that | not | between | similarity | such | models | speac | figure | children | with | one | musicology | album | but | an | harmonic | schumann | it | art | manuscript | using | this | based | well | first | style | \n",
      "Score : 20\n",
      "Shared list Q-K1 : for | of | such | to | on | by | can | as | is | it | with | based | that | the | be | figure | in | not | an | and | \n",
      "\n",
      "K2 : the | of | to | and | in | is | high | eo | with | for | temperature | at | gbit | modulator | device | are | as | sph | polymer | up | energy | speed | by | on | thermal | an | operating | 100 | silicon | fig | signals | ambient | 200 | be | ultra | after | bandwidth | which | temperatures | modulators | \n",
      "Score : 15\n",
      "Shared list Q-K2 : in | and | the | with | as | for | of | to | is | on | an | by | which | are | be | \n",
      "------------------------------------------------\n",
      "==================== Top 60 ====================\n",
      "Suspected : {'K2', 'K1'}\n",
      "Q  :the | of | and | to | for | in | be | or | planning | are | is | as | time | location | user | based | that | system | soft | on | such | figure | by | activity | with | it | scenarios | not | reminders | notifications | may | we | an | reminder | which | while | can | services | ontology | section | project | at | notification | example | helpful | might | this | when | some | concept | related | common | major | use | using | mobile | current | unknown | situational | future | \n",
      "\n",
      "\n",
      "K1 : the | of | and | in | to | as | music | is | for | be | on | by | tchaikovsky | can | that | not | between | similarity | such | models | speac | figure | children | with | one | musicology | album | but | an | harmonic | schumann | it | art | manuscript | using | this | based | well | first | style | transformations | or | analysis | published | representation | structure | computer | approaches | see | may | formal | are | pieces | its | from | cope | computational | harmony | beethoven | we | \n",
      "Score : 26\n",
      "Shared list Q-K1 : for | of | such | to | on | by | are | can | as | we | is | or | it | with | based | may | that | be | the | figure | in | using | not | an | this | and | \n",
      "\n",
      "K2 : the | of | to | and | in | is | high | eo | with | for | temperature | at | gbit | modulator | device | are | as | sph | polymer | up | energy | speed | by | on | thermal | an | operating | 100 | silicon | fig | signals | ambient | 200 | be | ultra | after | bandwidth | which | temperatures | modulators | measured | long | bit | such | tg | optical | optic | reliability | efficiency | could | electrical | fabricated | pam4 | ber | electro | 110 | voltage | from | consumption | rates | \n",
      "Score : 17\n",
      "Shared list Q-K2 : in | and | the | with | as | for | of | such | to | is | on | an | at | by | which | are | be | \n",
      "------------------------------------------------\n"
     ]
    },
    {
     "data": {
      "text/plain": [
       "'K1'"
      ]
     },
     "execution_count": 16,
     "metadata": {},
     "output_type": "execute_result"
    }
   ],
   "source": [
    "predict(Q_df, K_df, target='tf', _list=words)"
   ]
  },
  {
   "cell_type": "markdown",
   "metadata": {},
   "source": [
    "# Predict by Keyword Frequency\n",
    "First calucurate the keyness values for each normalized vector"
   ]
  },
  {
   "cell_type": "code",
   "execution_count": 17,
   "metadata": {},
   "outputs": [],
   "source": [
    "from modules.keyness import keyness, create_keyness_col"
   ]
  },
  {
   "cell_type": "code",
   "execution_count": 18,
   "metadata": {},
   "outputs": [],
   "source": [
    "create_keyness_col(df, effort='%diff')"
   ]
  },
  {
   "cell_type": "code",
   "execution_count": 19,
   "metadata": {},
   "outputs": [
    {
     "data": {
      "text/html": [
       "<div>\n",
       "<style scoped>\n",
       "    .dataframe tbody tr th:only-of-type {\n",
       "        vertical-align: middle;\n",
       "    }\n",
       "\n",
       "    .dataframe tbody tr th {\n",
       "        vertical-align: top;\n",
       "    }\n",
       "\n",
       "    .dataframe thead th {\n",
       "        text-align: right;\n",
       "    }\n",
       "</style>\n",
       "<table border=\"1\" class=\"dataframe\">\n",
       "  <thead>\n",
       "    <tr style=\"text-align: right;\">\n",
       "      <th></th>\n",
       "      <th>author</th>\n",
       "      <th>message</th>\n",
       "      <th>tf</th>\n",
       "      <th>keyness</th>\n",
       "    </tr>\n",
       "  </thead>\n",
       "  <tbody>\n",
       "    <tr>\n",
       "      <th>0</th>\n",
       "      <td>Q</td>\n",
       "      <td>\\n\\nHowever, there are frequent situations whe...</td>\n",
       "      <td>[0, 0, 0, 2, 0, 0, 0, 0, 1, 0, 0, 1, 0, 0, 1, ...</td>\n",
       "      <td>[-99.99999931273996, -31.273996509598604, -31....</td>\n",
       "    </tr>\n",
       "    <tr>\n",
       "      <th>1</th>\n",
       "      <td>K1</td>\n",
       "      <td>Download\\n\\nSource\\n\\nPDF\\nActions\\n   Copy Pr...</td>\n",
       "      <td>[0, 0, 0, 1, 1, 0, 0, 0, 1, 0, 0, 1, 0, 0, 1, ...</td>\n",
       "      <td>[-99.9999987205978, 27.94022092267706, 27.9402...</td>\n",
       "    </tr>\n",
       "    <tr>\n",
       "      <th>2</th>\n",
       "      <td>K2</td>\n",
       "      <td>\\n\\nWith the rapid growth of the information c...</td>\n",
       "      <td>[2, 1, 1, 7, 22, 3, 2, 4, 1, 13, 4, 1, 6, 1, 0...</td>\n",
       "      <td>[-19.270192701927016, 4036490264.903649, 40364...</td>\n",
       "    </tr>\n",
       "    <tr>\n",
       "      <th>3</th>\n",
       "      <td>R</td>\n",
       "      <td>Appointment of William S. Pfaff Jr. , 41 , as ...</td>\n",
       "      <td>[1, 0, 0, 0, 0, 0, 0, 0, 2, 0, 0, 2, 0, 0, 2, ...</td>\n",
       "      <td>[0.0, 0.0, 0.0, 0.0, 0.0, 0.0, 0.0, 0.0, 0.0, ...</td>\n",
       "    </tr>\n",
       "  </tbody>\n",
       "</table>\n",
       "</div>"
      ],
      "text/plain": [
       "  author                                            message  \\\n",
       "0      Q  \\n\\nHowever, there are frequent situations whe...   \n",
       "1     K1  Download\\n\\nSource\\n\\nPDF\\nActions\\n   Copy Pr...   \n",
       "2     K2  \\n\\nWith the rapid growth of the information c...   \n",
       "3      R  Appointment of William S. Pfaff Jr. , 41 , as ...   \n",
       "\n",
       "                                                  tf  \\\n",
       "0  [0, 0, 0, 2, 0, 0, 0, 0, 1, 0, 0, 1, 0, 0, 1, ...   \n",
       "1  [0, 0, 0, 1, 1, 0, 0, 0, 1, 0, 0, 1, 0, 0, 1, ...   \n",
       "2  [2, 1, 1, 7, 22, 3, 2, 4, 1, 13, 4, 1, 6, 1, 0...   \n",
       "3  [1, 0, 0, 0, 0, 0, 0, 0, 2, 0, 0, 2, 0, 0, 2, ...   \n",
       "\n",
       "                                             keyness  \n",
       "0  [-99.99999931273996, -31.273996509598604, -31....  \n",
       "1  [-99.9999987205978, 27.94022092267706, 27.9402...  \n",
       "2  [-19.270192701927016, 4036490264.903649, 40364...  \n",
       "3  [0.0, 0.0, 0.0, 0.0, 0.0, 0.0, 0.0, 0.0, 0.0, ...  "
      ]
     },
     "execution_count": 19,
     "metadata": {},
     "output_type": "execute_result"
    }
   ],
   "source": [
    "df"
   ]
  },
  {
   "cell_type": "code",
   "execution_count": 20,
   "metadata": {},
   "outputs": [],
   "source": [
    "Q_df = df.loc[DocID.Q]\n",
    "K_df = df.loc[DocID.K1:DocID.K2].reset_index(drop=True)"
   ]
  },
  {
   "cell_type": "code",
   "execution_count": 21,
   "metadata": {},
   "outputs": [
    {
     "name": "stdout",
     "output_type": "stream",
     "text": [
      "==================== Top 20 ====================\n",
      "Suspected : {'K2', 'K1'}\n",
      "Q  :planning | location | user | based | system | soft | figure | such | activity | scenarios | reminders | we | notifications | reminder | ontology | notification | helpful | project | example | section | \n",
      "\n",
      "\n",
      "K1 : music | tchaikovsky | similarity | such | models | speac | figure | children | musicology | album | schumann | harmonic | art | manuscript | based | representation | analysis | style | transformations | published | \n",
      "Score : 3\n",
      "Shared list Q-K1 : such | figure | based | \n",
      "\n",
      "K2 : eo | temperature | gbit | modulator | device | sph | polymer | energy | speed | thermal | operating | 100 | signals | silicon | fig | ambient | 200 | ultra | bandwidth | modulators | \n",
      "Score : 0\n",
      "Shared list Q-K2 : \n",
      "------------------------------------------------\n",
      "==================== Top 40 ====================\n",
      "Suspected : {'K2', 'K1'}\n",
      "Q  :planning | location | user | based | system | soft | figure | such | activity | scenarios | reminders | we | notifications | reminder | ontology | notification | helpful | project | example | section | concept | mobile | situational | unknown | current | common | model | activities | possible | management | advance | partially | exact | specific | practical | setting | geofence | implemented | suitable | better | \n",
      "\n",
      "\n",
      "K1 : music | tchaikovsky | similarity | such | models | speac | figure | children | musicology | album | schumann | harmonic | art | manuscript | based | representation | analysis | style | transformations | published | structure | metaphors | computational | computer | identification | works | research | studies | elements | relationships | edition | note | we | cope | formal | pieces | beethoven | approaches | mostly | insights | \n",
      "Score : 4\n",
      "Shared list Q-K1 : such | figure | based | we | \n",
      "\n",
      "K2 : eo | temperature | gbit | modulator | device | sph | polymer | energy | speed | thermal | operating | 100 | signals | silicon | fig | ambient | 200 | ultra | bandwidth | modulators | measured | bit | such | temperatures | efficiency | optic | electrical | tg | reliability | optical | fabricated | ber | pam4 | electro | 110 | rates | voltage | consumption | ghz | stability | \n",
      "Score : 1\n",
      "Shared list Q-K2 : such | \n",
      "------------------------------------------------\n"
     ]
    },
    {
     "data": {
      "text/plain": [
       "'K1'"
      ]
     },
     "execution_count": 21,
     "metadata": {},
     "output_type": "execute_result"
    }
   ],
   "source": [
    "predict(Q_df, K_df, target='keyness', _list=words)"
   ]
  },
  {
   "cell_type": "code",
   "execution_count": null,
   "metadata": {},
   "outputs": [],
   "source": []
  }
 ],
 "metadata": {
  "kernelspec": {
   "display_name": "expsystem",
   "language": "python",
   "name": "python3"
  },
  "language_info": {
   "codemirror_mode": {
    "name": "ipython",
    "version": 3
   },
   "file_extension": ".py",
   "mimetype": "text/x-python",
   "name": "python",
   "nbconvert_exporter": "python",
   "pygments_lexer": "ipython3",
   "version": "3.11.4"
  },
  "orig_nbformat": 4
 },
 "nbformat": 4,
 "nbformat_minor": 2
}
